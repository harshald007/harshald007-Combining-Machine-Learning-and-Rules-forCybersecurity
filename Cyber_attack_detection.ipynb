{
 "cells": [
  {
   "cell_type": "markdown",
   "metadata": {},
   "source": [
    "# **The Art and Science of Cybersecurity Attack Detection: A Hybrid Approach**\n"
   ]
  },
  {
   "cell_type": "markdown",
   "metadata": {},
   "source": [
    "This project aims to improve cyber security by developing a machine learning and rule-based approach to detect cyber attacks. The approach involves analyzing network data to identify potential attacks by identifying correlations between various variables. By completing this project, you will be able to understand how to analyze network data and identify the variables associated with cyber attacks. By leveraging machine learning algorithms and rule-based approaches, this project helps to improve the accuracy and efficiency of cyber attack detection, thereby enhancing the security of digital networks and systems. This project is a valuable first step towards becoming a cyber security expert.\n",
    "\n",
    "| <img src=\"https://cf-courses-data.s3.us.cloud-object-storage.appdomain.cloud/IBMSkillsNetwork-GPXX0Q8REN/CC_CybersecurityDetection.png\" width=\"600\" alt=\"Cyber attack image\"> |\n",
    "|:--:| \n"
   ]
  },
  {
   "cell_type": "markdown",
   "metadata": {},
   "source": [
    "## __Table of Contents__\n",
    "\n",
    "<ol>\n",
    "    <li><a href=\"#Objectives\">Objectives</a></li>\n",
    "    <li>\n",
    "        <a href=\"#Setup\">Setup</a>\n",
    "        <ol>\n",
    "            <li><a href=\"#Installing-Required-Libraries\">Installing Required Libraries</a></li>\n",
    "            <li><a href=\"#Importing-Required-Libraries\">Importing Required Libraries</a></li>\n",
    "        </ol>\n",
    "    </li>\n",
    "    <li><a href=\"#3.-Strategies-to-Detect-Cyber-Attacks\">Strategies to Detect Cyber Attacks</a></li>\n",
    "    <li>\n",
    "        <a href=\"#4.Cyber Attack Data\">Cyber Attacks Data</a>\n",
    "        <ol>\n",
    "            <li><a href=\"#Data Exploration\">Data Exploration</a></li>\n",
    "        </ol>\n",
    "    </li>\n",
    "    <li>\n",
    "        <a href=\"#5.Rule-Based System\">Rule-Based System</a>\n",
    "        <ol>\n",
    "            <li><a href=\"#Evaluation Metric\">Evaluation Metric</a></li>\n",
    "            <li><a href=\"#Introducing Snort\">Introducing Snort For Rule-Based System</a></li>\n",
    "        </ol>\n",
    "    </li>\n",
    "     <li>\n",
    "        <a href=\"#6.Machine Learning Model For Cyber Attack Detection\">Machine Learning Model For Cyber Attack Detection</a>\n",
    "        <ol>\n",
    "            <li><a href=\"#Building a RandomForest Model\">Building a RandomForest Model</a></li>\n",
    "        </ol>\n",
    "    </li>\n",
    "    <li>\n",
    "        <a href=\"#7.Human Analysis\">Human Analysis</a>\n",
    "        <ol>\n",
    "            <li><a href=\"#7.1. Correlations In The Dataset\">Correlations In The Dataset</a></li>\n",
    "            <li><a href=\"#7.2 Feature Ranking From Random Forest\">Feature Ranking From Random Forest</a></li>\n",
    "            <li><a href=\"#7.3 Discussing The Network Features\">Discussing The Network Features</a></li>\n",
    "        </ol>\n",
    "    </li>\n",
    "     <li>\n",
    "        <a href=\"#8.Cyber Security for Cloud Services\">Cyber Security for Cloud Services</a>\n",
    "    </li>\n",
    "     <li>\n",
    "        <a href=\"#9.List of All Features With Descriptions\">List of All Features With Descriptions</a>\n",
    "    </li>\n",
    "</ol>\n"
   ]
  },
  {
   "cell_type": "markdown",
   "metadata": {},
   "source": [
    "## 1. Objectives\n",
    "\n",
    "Our main goal is to understand how attacks happen and what are the important indicators of attack. by knowing that, we can implement a monitoring system for attack detection. By completing this project, you will be able to apply your learnings to real-world scenarios and contribute to the ongoing effort to secure the cyber realm.\n",
    "\n",
    "After completing this lab you will be able to:\n",
    "\n",
    "- Understand how cyber attacks occur and identify important indicators of attacks.\n",
    "- Implement a monitoring system for attack detection using both rule-based and machine learning approaches.\n",
    "- Learn how to visualize variables in network data.\n",
    "- Gain experience in using machine learning algorithms such as Random Forest for classification and feature ranking.\n",
    "- Enhance your knowledge and skills in cybersecurity and introducing powerful tools to equipped to detect and prevent cyber attacks.\n"
   ]
  },
  {
   "cell_type": "markdown",
   "metadata": {},
   "source": [
    "----\n"
   ]
  },
  {
   "cell_type": "markdown",
   "metadata": {},
   "source": [
    "## 2. Setup\n"
   ]
  },
  {
   "cell_type": "markdown",
   "metadata": {},
   "source": [
    "### 2.1 Installing Required Libraries\n",
    "\n",
    "The following required libraries are pre-installed in the Skills Network Labs environment. However, if you run this notebook commands in a different Jupyter environment (e.g. Watson Studio or Ananconda), you will need to install these libraries in the code cell below.\n"
   ]
  },
  {
   "cell_type": "code",
   "execution_count": 3,
   "metadata": {
    "tags": []
   },
   "outputs": [],
   "source": [
    "%%capture \n",
    "!pip install -U 'skillsnetwork' 'seaborn' 'nbformat' "
   ]
  },
  {
   "cell_type": "code",
   "execution_count": 4,
   "metadata": {
    "tags": []
   },
   "outputs": [],
   "source": [
    "%%capture \n",
    "!pip install scikit-learn==1.0.0\n",
    "!pip install dtreeviz"
   ]
  },
  {
   "cell_type": "code",
   "execution_count": null,
   "metadata": {},
   "outputs": [],
   "source": [
    ">  _YOU NEED TO <span style=\"color:red\"> **RESTART THE KERNEL** </span> by going to the `Kernel` menu and clicking on `Restart Kernel`._ \n",
    "\n"
   ]
  },
  {
   "cell_type": "markdown",
   "metadata": {},
   "source": [
    "### 2.2 Importing Required Libraries\n",
    "\n",
    "_import some essential libraries_\n"
   ]
  },
  {
   "cell_type": "code",
   "execution_count": null,
   "metadata": {},
   "outputs": [],
   "source": [
    "# You can also use this section to suppress warnings generated by your code:\n",
    "def warn(*args, **kwargs):\n",
    "    pass\n",
    "import warnings\n",
    "warnings.warn = warn\n",
    "warnings.filterwarnings('ignore')\n",
    "\n",
    "#import shap\n",
    "import skillsnetwork\n",
    "import numpy as np\n",
    "import pandas as pd\n",
    "import matplotlib.pyplot as plt\n",
    "import seaborn as sns\n",
    "%matplotlib inline\n",
    "\n",
    "sns.set_context('notebook')\n",
    "sns.set_style('white')"
   ]
  },
  {
   "cell_type": "markdown",
   "metadata": {},
   "source": [
    "------------------\n",
    "## 3. Strategies to Detect Cyber Attacks\n",
    "\n",
    "\n",
    "1. The first approach to detecting cyber attacks is to use **rule-based system**. These systems use a set of predefined rules to identify potential attacks based on known attack patterns. For example, a rule might flag an attack if the source to destination time to live (sttl) value is less than 10 and the count of states time to live (ct_state_ttl) value is greater than 100. While rule-based systems can be effective in detecting known attacks, they may also produce false positives, so it's important to validate the alerts generated by these systems.\n",
    "\n",
    "| <img src=\"https://cf-courses-data.s3.us.cloud-object-storage.appdomain.cloud/IBMSkillsNetwork-GPXX0Q8REN/images/simple_rule_system.png\" width=\"300\" alt=\"Simple Rule-Based System\"></img> |\n",
    "|:--:| \n",
    "| *Simple Rule-Based System* |\n",
    "\n",
    "2. Another approach to detecting cyber attacks is to use **machine learning algorithms**, such as Random Forest and adaboost. These algorithms are trained on a large dataset of network packets and can be used to identify anomalies in real-time network traffic that might indicate an attack. For example, a machine learning model might detect an attack if the destination to source transaction bytes (rate) value is greater than 10,000.\n",
    "\n",
    "| <img src=\"https://cdn.pixabay.com/photo/2019/01/22/10/58/pixel-cells-3947912_1280.png\" width=\"200\" alt=\"Cyber attack image\"> |\n",
    "|:--:| \n",
    "| *image credit: https://pixabay.com/* |\n",
    "\n",
    "3. In addition to these automated methods, **human analysis** can play a critical role in identifying cyber attacks. Human analysts can use their expertise to interpret the data and understand the context in which the attack is taking place. They can also validate the alerts generated by automated systems and take into account the broader context of the organization when analyzing data. For example, they may understand that a particular system is undergoing maintenance and can disregard anomalies in the data that might otherwise indicate an attack.\n",
    "\n",
    "| <img src=\"https://cdn.pixabay.com/photo/2018/03/11/06/15/cyber-security-3216076_1280.jpg\" width=\"200\" alt=\"human analysis\"> |\n",
    "|:--:| \n",
    "| *image credit: https://pixabay.com/* |\n",
    "\n",
    "Therefore, our strategy involves utilizing establishing a rule-based system as the first layer of detection. Then, we utilize a machine learning algorithm to pinpoint attacks. Finally, we delve into the variables to understand their significance and examine their importance as indicators of cyber attacks. This will contribute to developing cyber security knowledge for human analysis.\n"
   ]
  },
  {
   "cell_type": "markdown",
   "metadata": {},
   "source": [
    "--------------------------------\n"
   ]
  },
  {
   "cell_type": "markdown",
   "metadata": {},
   "source": [
    "## 4. Cyber Attack Data\n",
    "The data is collected by the [University of New South Wales (Australia)](https://research.unsw.edu.au/projects/unsw-nb15-dataset?utm_medium=Exinfluencer&utm_source=Exinfluencer&utm_content=000026UJ&utm_term=10006555&utm_id=NA-SkillsNetwork-Channel-SkillsNetworkGuidedProjectsIBMSkillsNetworkGPXX0Q8REN2117-2023-01-01). That includes records of different types of cyber attacks. The dataset contains network packets captured in the Cyber Range Lab of UNSW Canberra. The data is provided in two sets of training and testing data. We combine them to create one set of larger data.   \n"
   ]
  },
  {
   "cell_type": "code",
   "execution_count": null,
   "metadata": {},
   "outputs": [],
   "source": [
    "## loading the data\n",
    "training = pd.read_csv(\"https://cf-courses-data.s3.us.cloud-object-storage.appdomain.cloud/IBMSkillsNetwork-GPXX0Q8REN/UNSW_NB15_training-set.csv\")\n",
    "testing = pd.read_csv(\"https://cf-courses-data.s3.us.cloud-object-storage.appdomain.cloud/IBMSkillsNetwork-GPXX0Q8REN/UNSW_NB15_testing-set.csv\")\n",
    "print(\"training \",training.shape)\n",
    "print(\"testing \",testing.shape)"
   ]
  },
  {
   "cell_type": "markdown",
   "metadata": {},
   "source": [
    "To achieve a better performance, we will create a larger dataset and assign 70% for training and 30% to testing.\n"
   ]
  },
  {
   "cell_type": "code",
   "execution_count": null,
   "metadata": {},
   "outputs": [],
   "source": [
    "# checking if all the columns are similar\n",
    "all(training.columns == testing.columns)"
   ]
  },
  {
   "cell_type": "code",
   "execution_count": null,
   "metadata": {},
   "outputs": [],
   "source": [
    "# creating one-whole dataframe which contains all data and drop the 'id' column\n",
    "df = pd.concat([training,testing]).drop('id',axis=1)\n",
    "df = df.reset_index(drop=True)\n",
    "\n",
    "# print one attack sample\n",
    "df.head(2)"
   ]
  },
  {
   "cell_type": "markdown",
   "metadata": {},
   "source": [
    "The dataset includes 43 variables regarding monitoring the network and 2 variables that define if an attack happens (`label`) and the types of attacks (`attack_cat`). The description of all the variables is available at the end of this notebook.\n",
    "\n",
    "Lets quick look on the types of attacks.\n"
   ]
  },
  {
   "cell_type": "code",
   "execution_count": null,
   "metadata": {},
   "outputs": [],
   "source": [
    "# getting the attack category column \n",
    "df.attack_cat.unique()"
   ]
  },
  {
   "cell_type": "markdown",
   "metadata": {},
   "source": [
    "| <img src=\"https://cdn.pixabay.com/photo/2022/03/15/16/52/scam-7070718_1280.png\" width=\"600\" alt=\"hacking\"> |\n",
    "|:--:| \n",
    "| *image credit: https://pixabay.com/* |\n",
    "\n",
    "The dataset includes nine types of attacks, including:\n",
    "\n",
    "1. `Fuzzers`: Attack that involves sending random data to a system to test its resilience and identify any vulnerabilities.\n",
    "\n",
    "2. `Analysis`: A type of attack that involves analyzing the system to identify its weaknesses and potential targets for exploitation.\n",
    "\n",
    "3. `Backdoors`: Attack that involves creating a hidden entry point into a system for later use by the attacker.\n",
    "\n",
    "4. `DoS (Denial of Service)`: Attack that aims to disrupt the normal functioning of a system, making it unavailable to its users.\n",
    "\n",
    "5. `Exploits`: Attack that leverages a vulnerability in a system to gain unauthorized access or control.\n",
    "\n",
    "6. `Generic`: A catch-all category that includes a variety of different attack types that do not fit into the other categories.\n",
    "\n",
    "7. `Reconnaissance`: Attack that involves gathering information about a target system, such as its vulnerabilities and potential entry points, in preparation for a future attack.\n",
    "\n",
    "8. `Shellcode`: Attack that involves executing malicious code, typically in the form of shell scripts, on a target system.\n",
    "\n",
    "9. `Worms`: A type of malware that spreads itself automatically to other systems, often causing harm in the process.\n",
    "\n",
    "These nine categories cover a wide range of attack types that can be used to exploit a system, and it is important to be aware of them to protect against potential security threats.\n"
   ]
  },
  {
   "cell_type": "markdown",
   "metadata": {},
   "source": [
    "### 4.1. Data Exploration\n"
   ]
  },
  {
   "cell_type": "markdown",
   "metadata": {},
   "source": [
    "In this section, we briefly explore our dataset.\n"
   ]
  },
  {
   "cell_type": "code",
   "execution_count": null,
   "metadata": {},
   "outputs": [],
   "source": [
    "# exploring the types of variables\n",
    "df.info()"
   ]
  },
  {
   "cell_type": "markdown",
   "metadata": {},
   "source": [
    "As we can see, some variables, that are categorical, are defined as strings. In the following cell we convert them into categorical type provided by `pandas`.\n"
   ]
  },
  {
   "cell_type": "code",
   "execution_count": null,
   "metadata": {},
   "outputs": [],
   "source": [
    "# some columns should be change from string to categoriacal\n",
    "for col in ['proto', 'service', 'state']:\n",
    "    df[col] = df[col].astype('category').cat.codes\n",
    "    df[col] = df[col].astype('category').cat.codes\n",
    "    \n",
    "df['attack_cat'] = df['attack_cat'].astype('category') # keep the nomical info for attack info"
   ]
  },
  {
   "cell_type": "markdown",
   "metadata": {},
   "source": [
    "Exploring how many records of different types of attacks are in the dataset.\n"
   ]
  },
  {
   "cell_type": "code",
   "execution_count": null,
   "metadata": {},
   "outputs": [],
   "source": [
    "# explore different types of attackes\n",
    "print(df[df['label']==1]\n",
    "     ['attack_cat']\n",
    "     .value_counts()\n",
    ")\n",
    "# plot the pie plot of attacks\n",
    "df[df['label']==1]['attack_cat'].value_counts()\\\n",
    "    .plot\\\n",
    "    .pie(autopct='%1.1f%%',wedgeprops={'linewidth': 2, 'edgecolor': 'white', 'width': 0.50})"
   ]
  },
  {
   "cell_type": "markdown",
   "metadata": {},
   "source": [
    "-----------------\n"
   ]
  },
  {
   "cell_type": "markdown",
   "metadata": {},
   "source": [
    "## 5. Rule-Based System\n",
    "\n",
    "| <img src=\"https://cf-courses-data.s3.us.cloud-object-storage.appdomain.cloud/IBMSkillsNetwork-GPXX0Q8REN/images/simple_rule_system.png\" width=\"400\" alt=\"Simple Rule-Based System\"></img> |\n",
    "|:--:| \n",
    "| *Simple Rule-Based System* |\n",
    "\n",
    "Both **rule-based systems and machine learning systems** have their own strengths and weaknesses, and using both together can provide a more comprehensive and effective approach to detecting cyber attacks. Here are a few reasons why:\n",
    "\n",
    "1. Explainability: Rule-based systems provide clear and concise rules that can be easily understood and interpreted by human experts. This makes it easier to understand how the system is making its predictions and to validate the results.\n",
    "\n",
    "2. Robustness: Rule-based systems are less likely to be affected by unexpected changes in the data distribution compared to machine learning models. They can still provide accurate results even when the data changes, as long as the rules remain valid.\n",
    "\n",
    "3. Speed: Rule-based systems can be much faster than machine learning models, especially for simple problems. This can be important in real-time monitoring systems where the response time needs to be fast.\n",
    "\n",
    "4. Complementary strengths: Rule-based systems and machine learning models can complement each other. Rule-based systems can be used to detect simple, well-defined attacks, while machine learning models can be used to detect more complex, subtle attacks.\n",
    "\n",
    "In our project, we first employ rule-based model and then we utilize machine learning model.\n",
    "By combining rule-based systems and machine learning models, it is possible to take advantage of the strengths of each approach to create a more effective and comprehensive system for detecting cyber attacks.\n"
   ]
  },
  {
   "cell_type": "markdown",
   "metadata": {},
   "source": [
    "### 5.1. Evaluation Metric\n",
    "\n",
    "In the rule-based model, we are looking for higher recall rate because we are sensitive to alarm potential threats, and we can not afford to miss attacks (FALSE NEGATIVE). Recall (or True Positive Rate) is calculated by dividing the true positives (actual attacks) by anything that should have been predicted as positive (detected and non-detected attacks).\n",
    "\n",
    "\n",
    "|<img src=\"https://keytodatascience.com/wp-content/uploads/2019/09/values.jpg\" width=\"400\" alt=\"IBM Watson\"> |\n",
    "|:--:| \n",
    "| Learn more about confusion matrix (and image credit): https://keytodatascience.com/confusion-matrix/  |\n"
   ]
  },
  {
   "cell_type": "code",
   "execution_count": null,
   "metadata": {},
   "outputs": [],
   "source": [
    "# separating the target columns in the training and testing data \n",
    "from sklearn.model_selection import train_test_split\n",
    "\n",
    "# Split the data into variables and target variables\n",
    "# let's exclude label columns \n",
    "X = df.loc[:, ~df.columns.isin(['attack_cat', 'label'])]\n",
    "y = df['label'].values\n",
    "\n",
    "# Split the data into train and test sets\n",
    "X_train, X_test, y_train, y_test = train_test_split(X, y, test_size=0.3, random_state=11)\n",
    "\n",
    "# Getting the list of variables\n",
    "feature_names = list(X.columns)\n",
    "\n",
    "# print the shape of train and test data\n",
    "print(\"X_train shape: \", X_train.shape)\n",
    "print(\"y_train shape: \", y_train.shape)\n",
    "print(\"X_test shape: \", X_test.shape)\n",
    "print(\"y_test shape: \", y_test.shape)"
   ]
  },
  {
   "cell_type": "markdown",
   "metadata": {},
   "source": [
    "We use a decision tree model to create a set of criteria for detecting cyber attacks in our rule-based system. The goal of this first layer of protection is to have a high recall rate, so we conduct a grid search to optimize the model toward maximizing recall.\n"
   ]
  },
  {
   "cell_type": "code",
   "execution_count": null,
   "metadata": {},
   "outputs": [],
   "source": [
    "from sklearn.tree import DecisionTreeClassifier\n",
    "from sklearn.model_selection import GridSearchCV\n",
    "\n",
    "# Define the parameter grid\n",
    "param_grid = {\n",
    "    'criterion': ['gini', 'entropy'],\n",
    "    'max_depth': [2, 4],\n",
    "    'min_samples_split': [2, 4],\n",
    "    'min_samples_leaf': [1, 2]\n",
    "}\n",
    "\n",
    "# Create a decision tree classifier\n",
    "dt = DecisionTreeClassifier()\n",
    "\n",
    "# Use GridSearchCV to search for the best parameters\n",
    "grid_search = GridSearchCV(dt, param_grid, cv=5, scoring='recall')\n",
    "grid_search.fit(X_train, y_train)\n",
    "\n",
    "# Print the best parameters and best score\n",
    "print(\"Best parameters:\", grid_search.best_params_)\n",
    "print(\"Best recall score:\", grid_search.best_score_)"
   ]
  },
  {
   "cell_type": "markdown",
   "metadata": {},
   "source": [
    "Using the parameters above, adjust the decision tree for high recall rate.\n"
   ]
  },
  {
   "cell_type": "code",
   "execution_count": null,
   "metadata": {},
   "outputs": [],
   "source": [
    "from sklearn.metrics import recall_score\n",
    "from sklearn.metrics import accuracy_score\n",
    "\n",
    "clf=grid_search.best_estimator_\n",
    "#same as\n",
    "#clf = DecisionTreeClassifier(max_depth=2, min_samples_leaf=1, min_samples_split=2, criterion= 'entropy')\n",
    "#clf.fit(X_train, y_train)\n",
    "\n",
    "# Make predictions on the test data\n",
    "y_pred = clf.predict(X_test)\n",
    "\n",
    "# Calculate the mean absolute error of the model\n",
    "recall = recall_score(y_test, y_pred)\n",
    "print(\"Recall: \", recall)"
   ]
  },
  {
   "cell_type": "markdown",
   "metadata": {},
   "source": [
    "One of the strengths of a decision tree is to present the sets of rules than can be utilized for rule-based systems. Here, we visualize the rules.\n"
   ]
  },
  {
   "cell_type": "code",
   "execution_count": null,
   "metadata": {},
   "outputs": [],
   "source": [
    "# plot the tree \n",
    "from sklearn.tree import export_text\n",
    "import dtreeviz\n",
    "\n",
    "print(\":::::::> The RULES FOR HIGH RECALL RATE <::::::: \\n\" ,export_text(clf,feature_names=feature_names))\n",
    "\n",
    "# visualizing the tree\n",
    "viz_model = dtreeviz.model(clf,\n",
    "                           X_train=X_train, y_train=y_train, \n",
    "                           feature_names=feature_names)\n",
    "\n",
    "v = viz_model.view(fancy=True)     # render as SVG into internal object \n",
    "v"
   ]
  },
  {
   "cell_type": "markdown",
   "metadata": {},
   "source": [
    "We create rules for those that are identified as potential attacks (`class 1`) in the decision tree. Then, filter out the testing set.\n"
   ]
  },
  {
   "cell_type": "markdown",
   "metadata": {},
   "source": [
    "We apply our rules to the testing data and call them `test_2`.\n"
   ]
  },
  {
   "cell_type": "code",
   "execution_count": null,
   "metadata": {},
   "outputs": [],
   "source": [
    "X_test = X_test.reset_index(drop=True)\n",
    "\n",
    "# filter out testing part based on our rules\n",
    "rules= \"(sttl <= 61.00 & sinpkt<= 0.00) | (sttl >  61.00 )\"\n",
    "\n",
    "# getting the index of records to keep\n",
    "ind = X_test.query(rules).index\n",
    "\n",
    "# filtering test set (both X_test and y_test)\n",
    "X_test_2 = X_test.loc[ind,:]\n",
    "y_test_2 = y_test[ind]\n",
    "\n",
    "print(X_test.shape)\n",
    "print(X_test_2.shape)\n",
    "print(\"filtered data\" , (1- np.round(X_test_2.shape[0] / X_test.shape[0],2))*100, \"%\")"
   ]
  },
  {
   "cell_type": "markdown",
   "metadata": {},
   "source": [
    "Our simple rule-based system filtered 23% of network traffic for further analysis, demonstrating its efficacy in detecting non-threatening network activity. In practice, rule-based systems are more complex and capable of detecting the vast majority of non-threatening network traffic.\n",
    "\n",
    "The next step involves using machine learning to detect cyber attacks by applying the trained model to the filtered data (`test_2`) from the previous step. It may be useful to introduce Snort, which is a powerful open-source detection software that can be utilized for network security.\n"
   ]
  },
  {
   "cell_type": "markdown",
   "metadata": {},
   "source": [
    "### 5.2. Introducing Snort For Rule-Based System\n",
    "\n",
    "\n",
    "\n",
    "`Snort` is a free and open-source rule-based system for network intrusion detection and prevention system (NIDPS) developed by Cisco. It uses rules to analyze network traffic and identify potential security threats based on specific patterns or behaviors. `Snort` comes with a set of pre-defined rules that can be used for basic intrusion detection. These rules are included in the \"rules\" directory in the `Snort` installation and can be enabled in the configuration file. The default rules cover a range of attack types, such as buffer overflows, SQL injection, and network scanning, and can be a good starting point for building a more customized intrusion detection system. However, it's important to note that the default rules are not comprehensive and may not provide complete coverage for all possible attack scenarios.\n",
    "\n",
    "\n",
    "| <img src=\"https://cf-courses-data.s3.us.cloud-object-storage.appdomain.cloud/IBMSkillsNetwork-GPXX0Q8REN/images/snort.png\" width=\"300\" alt=\"Cyber attack image\"> |\n",
    "|:--:| \n",
    "| *source: https://www.snort.org/* |\n",
    "\n",
    "Covering the implementation of `Snort` will be beyond the scope of this project; However, here are some general steps to get started with `Snort`:\n",
    "\n",
    "> 1. Install Snort: You can [download Snort from the official website](https://www.snort.org/?utm_medium=Exinfluencer&utm_source=Exinfluencer&utm_content=000026UJ&utm_term=10006555&utm_id=NA-SkillsNetwork-Channel-SkillsNetworkGuidedProjectsIBMSkillsNetworkGPXX0Q8REN2117-2023-01-01), and install it on your system. Make sure to follow the instructions carefully.\n",
    "> 2. Configure Snort: Once Snort is installed, you will need to configure it. This includes setting up the network interface to monitor, defining the rules that Snort should use to detect suspicious traffic, and specifying the logging and alerting options.\n",
    "> 3. Create Rules: Snort uses rules to detect various types of suspicious activity. Rules are typically written in a specific format, and include information such as the type of traffic to monitor, the conditions for detection, and the alerting options. You can write your own custom rules, or use pre-defined rules that come with Snort.\n",
    "> 4. Start Snort: Once Snort is installed and configured, you can start it to begin monitoring traffic on the specified network interface. Snort will run in the background, and will generate alerts or log events when suspicious activity is detected.\n",
    "> 5. Analyze Alerts: When Snort detects suspicious activity, it will generate alerts or log events, depending on your configuration. You can then use these alerts to investigate and respond to the detected activity.\n",
    "\n",
    "It is important to note that using Snort effectively requires a solid understanding of networking, security, and the various threats that can be detected. It is recommended that you invest time in learning these topics and building your skills before using Snort in a production environment.\n",
    "\n",
    "**_However, keep in mind that rule-based models may not be enough to protect against cyber attacks, especially in cloud services where more sophisticated strategies are needed. I will elaborate a cloud Security tool call `Qradar` in part 8._** \n"
   ]
  },
  {
   "cell_type": "markdown",
   "metadata": {},
   "source": [
    "-------------------------------\n"
   ]
  },
  {
   "cell_type": "markdown",
   "metadata": {},
   "source": [
    "## 6. Machine Learning Model For Cyber Attack Detection\n",
    "\n",
    "| <img src=\"https://cdn.pixabay.com/photo/2019/01/22/10/58/pixel-cells-3947912_1280.png\" width=\"300\" alt=\"Cyber attack image\"> |\n",
    "|:--:| \n",
    "| *image credit: https://pixabay.com/* |\n"
   ]
  },
  {
   "cell_type": "markdown",
   "metadata": {},
   "source": [
    "The combination of machine learning and rule-based models offers several advantages in detecting cyber attacks:\n",
    "\n",
    "1. Improved accuracy: Machine learning models can identify complex patterns and relationships in data, whereas rule-based models are limited by the explicit rules defined.\n",
    "2. Enhanced interpretability: Rule-based models are easier to understand and interpret, making it easier to validate the results generated by machine learning models.\n",
    "3. Increased speed: Machine learning models can quickly analyze large amounts of data, while rule-based models can make decisions faster in real-time.\n",
    "4. Better scalability: Machine learning models can be easily updated and retrained on new data, while rule-based models can be difficult to update as the threat landscape changes.\n",
    "5. Enriched data utilization: Both methods can complement each other by using different data sources and types, leading to a more comprehensive analysis.\n"
   ]
  },
  {
   "cell_type": "markdown",
   "metadata": {},
   "source": [
    "### 6.1. Building a RandomForest Model\n",
    "\n",
    "Random Forest is a good choice for cyber attack detection due to its high accuracy in classifying complex data patterns. The ability to interpret the results of Random Forest models also makes it easier to validate and understand the decisions it makes, leading to more effective and efficient cyber security measures.\n"
   ]
  },
  {
   "cell_type": "code",
   "execution_count": null,
   "metadata": {},
   "outputs": [],
   "source": [
    "from sklearn.ensemble import RandomForestClassifier\n",
    "from sklearn.metrics import accuracy_score, precision_score\n",
    "\n",
    "# Create a Random Forest model\n",
    "rf = RandomForestClassifier(random_state=123)\n",
    "\n",
    "# Train the model on the training data\n",
    "rf.fit(X_train, y_train)\n",
    "\n",
    "# Make predictions on the test data\n",
    "y_pred = rf.predict(X_test_2)\n",
    "\n",
    "# Calculate the mean absolute error of the model\n",
    "acc = accuracy_score(y_test_2, y_pred)\n",
    "rec = recall_score(y_test_2, y_pred)\n",
    "per = precision_score(y_test_2, y_pred)\n",
    "print(\"Recall: \", rec)\n",
    "print(\"Percision: \", per)\n",
    "print(\"Accuracy: \", acc)"
   ]
  },
  {
   "cell_type": "markdown",
   "metadata": {},
   "source": [
    "As we can see, the random forest algorithm showed strong performance in cyber attack detection. To gain better insight into the performance of our prediction model, let's plot a confusion matrix. It is important to note that the majority of our data contains actual attack information, as we filtered out some portion of non-threatening traffic in the previous step.\n"
   ]
  },
  {
   "cell_type": "code",
   "execution_count": null,
   "metadata": {},
   "outputs": [],
   "source": [
    "# plot confusion matrix\n",
    "cross = pd.crosstab(pd.Series(y_test_2, name='Actual'), pd.Series(y_pred, name='Predicted'))\n",
    "plt.figure(figsize=(5, 5))\n",
    "sns.heatmap(cross, annot=True,fmt='d', cmap=\"YlGnBu\")\n",
    "plt.show()"
   ]
  },
  {
   "cell_type": "markdown",
   "metadata": {},
   "source": [
    "To understand the functioning of the final tree in the random forest, we will print the rules present in the 100th tree to a file named `Tree_output.txt`. You can access to the file by clicking `file browser` located in the left panel or pressing `ctrl + shift + f` (in Windows) and `command + shift + f` (in Mac).\n",
    "\n",
    "This will allow us to have a visual representation of the tree and help to better understanding of how the model is making decisions to detect cyber attacks. The rules present in the tree can also be used as a reference for developing a rule-based system or for fine-tuning the model for better results. The output will also highlight the most important factors considered by the model for attack detection, which can be useful for further analysis and optimization.\n"
   ]
  },
  {
   "cell_type": "code",
   "execution_count": null,
   "metadata": {},
   "outputs": [],
   "source": [
    "# save the 100th tree sample in random forest in the file \n",
    "from sklearn.tree import export_text\n",
    "feature_names = list(X.columns)\n",
    "\n",
    "# Create a file and write to it\n",
    "with open(\"Tree_output.txt\", \"w\") as file:\n",
    "    print(export_text(rf.estimators_[99], \n",
    "            spacing=3, decimals=2,\n",
    "            feature_names=feature_names), file=file)"
   ]
  },
  {
   "cell_type": "markdown",
   "metadata": {},
   "source": [
    "### GBM classifier with grid search on the parameters\n"
   ]
  },
  {
   "cell_type": "code",
   "execution_count": null,
   "metadata": {},
   "outputs": [],
   "source": [
    "# try grid search on GBM parameters first\n",
    "# write your code here\n",
    "from sklearn.ensemble import GradientBoostingClassifier\n",
    "\n",
    "# Define the Gradient Boosting Classifier model\n",
    "gbc = GradientBoostingClassifier()\n",
    "\n",
    "# Define the hyperparameters for Grid Search\n",
    "# we purposely reduce the number of possible parameters due to the process time\n",
    "param_grid = {\n",
    "    'learning_rate': [0.1],\n",
    "    'n_estimators': [100],\n",
    "    'max_depth': [1, 3, 5]\n",
    "}\n",
    "\n",
    "# Perform Grid Search on the GBC model with 5-fold cross-validation\n",
    "grid_search = GridSearchCV(gbc, param_grid, cv=5)\n",
    "grid_search.fit(X_train, y_train)\n",
    "\n",
    "# Print the best parameters and best score\n",
    "print(\"Best parameters: \", grid_search.best_params_)\n",
    "print(\"Best score: \", grid_search.best_score_)"
   ]
  },
  {
   "cell_type": "code",
   "execution_count": null,
   "metadata": {},
   "outputs": [],
   "source": [
    "# apply the parameters to GBM model\n",
    "# write your code here\n",
    "from sklearn.ensemble import GradientBoostingClassifier\n",
    "gbc = GradientBoostingClassifier(n_estimators=100, random_state=0).fit(X_train, y_train)\n",
    "print(clf.score(X_test_2, y_test_2))\n",
    "\n",
    "y_pred = gbc.predict(X_test_2)\n",
    "\n",
    "# Calculate the mean absolute error of the model\n",
    "acc = accuracy_score(y_test_2, y_pred)\n",
    "rec = recall_score(y_test_2, y_pred)\n",
    "per = precision_score(y_test_2, y_pred)\n",
    "print(\"Recall: \", rec)\n",
    "print(\"Percision: \", per)\n",
    "print(\"Accuracy: \", acc)"
   ]
  },
  {
   "cell_type": "markdown",
   "metadata": {},
   "source": [
    "## 7. Human Analysis\n",
    "\n",
    "In addition to these automated methods, human analysis can play a critical role in identifying cyber attacks. Human analysis is important in identifying cyber attacks. Analysts use their expertise to interpret data and understand the context of an attack. Understanding key variables in network data is crucial for effective human analysis in detecting cyber attacks.\n"
   ]
  },
  {
   "cell_type": "markdown",
   "metadata": {},
   "source": [
    "### 7.1. Correlations In The Dataset\n",
    "\n",
    "To improve our understanding of the variables involved in cyber attack detection, we need to analyze the network data. Correlation diagrams can be helpful in visualizing how different variables are associated with each other and with cyber attacks. Additionally, random forest models can help identify the importance of different features in predicting the target variable (cyber attacks). We can compare the feature rankings from the random forest with the results of the correlation analysis to gain a better understanding of the key features to focus on for effective cyber attack detection.\n"
   ]
  },
  {
   "cell_type": "code",
   "execution_count": null,
   "metadata": {},
   "outputs": [],
   "source": [
    "# creating the correlation matrix\n",
    "plt.figure(figsize=(12, 10))\n",
    "mask = np.triu(np.ones_like(df.corr(), dtype=np.bool))\n",
    "sns.heatmap(df.corr(),vmin=-1, vmax=1,cmap='BrBG', mask=mask)"
   ]
  },
  {
   "cell_type": "markdown",
   "metadata": {},
   "source": [
    "The heatmap visualizes the correlation between variables in the dataset. It shows that certain features are highly correlated, such as `tcprtt` with `ackdat` and `synack`. This is because these variables measure different aspects of the same TCP connection setup process. Specifically, `tcprtt` is the round-trip time it takes for the TCP connection to be established, while `ackdat` measures the time between the `SYN_ACK` and `ACK` packets, and `synack` measures the time between the SYN and `SYN_ACK` packets. Since these variables are all related to the same underlying process of establishing a TCP connection, they are highly correlated.\n"
   ]
  },
  {
   "cell_type": "markdown",
   "metadata": {},
   "source": [
    "Let's have a look at the correlation of variables with the cyber attack (label column):\n"
   ]
  },
  {
   "cell_type": "code",
   "execution_count": null,
   "metadata": {},
   "outputs": [],
   "source": [
    "# modify the headmap plot to show correlation variables to the label \n",
    "plt.figure(figsize=(10, 10))\n",
    "heatmap = sns.heatmap(df.corr()[['label']].sort_values(by='label', ascending=False), vmin=-1, vmax=1, annot=True, cmap='BrBG')\n",
    "heatmap.set_title('Features Correlating with the Label', fontdict={'fontsize':18}, pad=16);"
   ]
  },
  {
   "cell_type": "markdown",
   "metadata": {},
   "source": [
    "The following variables are positively correlated with cyber attacks:\n",
    "\n",
    "> - `sttl`: Source to destination time to live value. Attackers may use techniques such as packet fragmentation or tunneling to avoid detection or bypass security measures, which can increase the number of hops or decrease the TTL value. A higher value for sttl may be indicative of such techniques.  \n",
    "> - `ct_state_ttl` and `state`: These features reflect various stages of TCP connections and may be related to port scanning, SYN flood, or DDoS attacks. Attackers may exploit the state of TCP connections using different techniques, which may be reflected in the values of ct_state_ttl and state.\n",
    "> - `ct_dst_sport_ltm`: This feature measures the number of connections from the same source IP to the same destination port in a short time period. Attackers may initiate multiple connections to the same port in a short time period to exploit vulnerabilities or launch attacks against a particular service or application, which may be reflected in a higher value for ct_dst_sport_ltm.\n",
    "> - `rate`: This feature may represent various types of traffic rates or frequencies. Attackers may generate high traffic rates or bursts of traffic to overwhelm or bypass security measures, which may be reflected in a higher value for rate.\n",
    "\n",
    "In contrast, the following variables are negatively correlated with cyber attacks:\n",
    "\n",
    "> - `swin`: The size of the TCP window may decrease during an attack when attackers try to flood the network with traffic. A lower value for swin may be indicative of such attacks.\n",
    "> - `dload`: A decrease in the download speed may be indicative of an attack that consumes network bandwidth, such as DDoS attacks or worm propagation. A lower value for dload may be reflective of such attacks.\n"
   ]
  },
  {
   "cell_type": "markdown",
   "metadata": {},
   "source": [
    "### 7.2. Feature Ranking From Random Forest\n",
    "\n",
    "The random forest provides a list of features based on their contributions to the prediction model.\n",
    "The feature ranking can be accessed through RandomForest object (in our example `rf`) using `feature_importances_` attribute.\n"
   ]
  },
  {
   "cell_type": "code",
   "execution_count": null,
   "metadata": {},
   "outputs": [],
   "source": [
    "# creating of ranking data frame\n",
    "feature_imp = pd.DataFrame({'Name':X.columns, 'Importance':rf.feature_importances_})\n",
    "\n",
    "# sorting the features based on their importance value\n",
    "feature_imp = feature_imp.sort_values('Importance',ascending=False).reset_index(drop=True)\n",
    "\n",
    "# show only 10 most important feature in style of gradien of colores\n",
    "feature_imp[:10].style.background_gradient()"
   ]
  },
  {
   "cell_type": "code",
   "execution_count": null,
   "metadata": {},
   "outputs": [],
   "source": [
    "# plot the important features\n",
    "feat_importances = pd.Series(rf.feature_importances_, index=X.columns)\n",
    "feat_importances.nlargest(20).plot(kind='barh',color=['g','b']*5)"
   ]
  },
  {
   "cell_type": "markdown",
   "metadata": {},
   "source": [
    "As we can see, the feature importance ranking is aligned with correlation result. This highlights the importance of top features such `sttl`, `ct_stat_ttl`, `rate`, and `dload`. \n",
    "\n",
    "\n",
    "Following is a brief description of some of these important features (a full list of features is available at the end of this notebook).\n",
    "\n",
    "|No.|Name            |Type     |Description                                                                                                                                                       |\n",
    "|---|----------------|---------|------------------------------------------------------------------------------------------------------------------------------------------------------------------|\n",
    "|10 |sttl            |Integer  |Source to destination time to live value |\n",
    "|37 |ct_state_ttl    |Integer  |No. for each state (6) according to specific range of values for source/destination time to live (10) (11)(see the full list at the end of this project to find no 6,10,11).                                                       |\n",
    "|9  |rate          |Integer  |Destination to source transaction bytes|\n",
    "|16 |Dload           |Float    |Destination bits per second  |\n",
    "|15 |Sload           |Float    |Source bits per second  |                                                                                                                                       \n",
    "|47 |ct_dst_src_ltm  |integer  |No of connections of the same source (1) and the destination (3) address in in 100 connections according to the last time (26).                                   |\n",
    "|23 |smeansz         |integer  |Mean of the ?ow packet size transmitted by the src                                                                                                                |\n",
    "|8  |sbytes          |Integer  |Source to destination transaction bytes                                                                                                                           |\n",
    "|22 |dtcpb           |integer  |Destination TCP base sequence number                                                                                                                              |\n",
    "|42 |ct_srv_dst      |integer  |No. of connections that contain the same service (14) and destination address (3) in 100 connections according to the last time (26).                             |\n",
    "|6  |state           |nominal  |Indicates to the state and its dependent protocol, e.g. ACC, CLO, CON, ECO, ECR, FIN, INT, MAS, PAR, REQ, RST, TST, TXD, URH, URN, and (-) (if not used state)    |\n",
    "|46 |ct_dst_sport_ltm|integer  |No of connections of the same destination address (3) and the source port (2) in 100 connections according to the last time (26).                                 |\n",
    "|7  |dur             |Float    |Record total duration                                                                                                                                             \n"
   ]
  },
  {
   "cell_type": "markdown",
   "metadata": {},
   "source": [
    "###  Select These Top 10 Features And Compare the Performance \n"
   ]
  },
  {
   "cell_type": "code",
   "execution_count": null,
   "metadata": {},
   "outputs": [],
   "source": [
    "# use Random Forest to run train and test on data of only top 10 features\n",
    "top10= feature_imp.Name[:10].tolist()\n",
    "\n",
    "X = df.loc[:, df.columns.isin(top10)]\n",
    "y = df['label'].values\n",
    "\n",
    "rf_top10 = RandomForestClassifier(random_state=11)\n",
    "\n",
    "# Split the data into train and test sets\n",
    "X_train, X_test, y_train, y_test = train_test_split(X, y, test_size=0.3, random_state=11)\n",
    "\n",
    "# Train the model on the training data\n",
    "rf_top10.fit(X_train, y_train)\n",
    "\n",
    "# Make predictions on the test data\n",
    "y_pred = rf_top10.predict(X_test_2)\n",
    "\n",
    "# Calculate the mean absolute error of the model\n",
    "acc = accuracy_score(y_test_2, y_pred)\n",
    "print(\"Accuracy: \", acc)"
   ]
  },
  {
   "cell_type": "markdown",
   "metadata": {},
   "source": [
    "Let's select only the top 10 features and find their associations with the type of cyber attack.\n"
   ]
  },
  {
   "cell_type": "code",
   "execution_count": null,
   "metadata": {},
   "outputs": [],
   "source": [
    "# get the names of top 10 features\n",
    "top10= feature_imp.Name[:10].tolist()\n",
    "\n",
    "# get the attack names\n",
    "attack_names = np.array(df['attack_cat'].unique())\n",
    "\n",
    "# selecting only top 10 features\n",
    "X_top = df.loc[:, df.columns.isin(top10)]\n",
    "# need to convert the catagorical data into numbers (e.g. normal ->0, Blackdoor ->2)\n",
    "y_top = pd.factorize(df['attack_cat'])[0]\n",
    "\n",
    "\n",
    "# for the purpose of visualization we set max_depth to 6 in order to be shown in the notebook\n",
    "clf_top10 = DecisionTreeClassifier(max_depth=6)\n",
    "\n",
    "# Split the data into train and test sets\n",
    "X_train_top, X_test_top, y_train_top, y_test_top = train_test_split(X_top, y_top, test_size=0.3, random_state=11)\n",
    "\n",
    "# Train the model on the training data\n",
    "clf_top10.fit(X_train_top, y_train_top)\n",
    "\n",
    "# visualizing the tree\n",
    "viz_model = dtreeviz.model(clf_top10,\n",
    "                           X_train=X_train_top, y_train=y_train_top, \n",
    "                           class_names=attack_names,\n",
    "                           feature_names=top10)\n",
    "\n",
    "v = viz_model.view(fancy=False,scale=1) # render as SVG into internal object \n",
    "v\n",
    "#v.save(\"The_100th_tree.svg\") # if you willing to save the "
   ]
  },
  {
   "cell_type": "markdown",
   "metadata": {},
   "source": [
    "For a better understanding, we can randomly select a point and visualize the path for prediction.\n"
   ]
  },
  {
   "cell_type": "code",
   "execution_count": null,
   "metadata": {},
   "outputs": [],
   "source": [
    "# get a random point\n",
    "rand = np.random.randint(0, len(X))\n",
    "sample_point = X.iloc[rand,:].values\n",
    "\n",
    "# visualizing the path for the point\n",
    "v = viz_model.view(fancy=True,scale=1.5,x=sample_point,show_just_path=True)\n",
    "v"
   ]
  },
  {
   "cell_type": "markdown",
   "metadata": {},
   "source": [
    "please keep in mind that we utilize a simple decision tree for visualization (above cells), and random forest can outperform decision tree in predicting the type of attack.\n"
   ]
  },
  {
   "cell_type": "markdown",
   "metadata": {},
   "source": [
    "###  Run Random Forest With Attack Category As the Prediction Labels And Plot The Confusion Matrix\n"
   ]
  },
  {
   "cell_type": "code",
   "execution_count": null,
   "metadata": {},
   "outputs": [],
   "source": [
    "# write your code here\n",
    "top10= feature_imp.Name[:10].tolist()\n",
    "\n",
    "X = df.loc[:, df.columns.isin(top10)]\n",
    "\n",
    "# X = df.loc[:, ~df.columns.isin(['attack_cat', 'label'])] # if you like to use all features use this line\n",
    "y = df['attack_cat'].values\n",
    "\n",
    "# Split the data into train and test sets\n",
    "X_train, X_test, y_train, y_test = train_test_split(X, y, test_size=0.3, random_state=11)\n",
    "\n",
    "# Create a Random Forest model\n",
    "rf = RandomForestClassifier(random_state=123,min_samples_leaf= 1, min_samples_split= 5, n_estimators= 100)\n",
    "\n",
    "# Train the model on the training data\n",
    "rf.fit(X_train, y_train)\n",
    "\n",
    "# Make predictions on the test data\n",
    "y_pred = rf.predict(X_test)\n",
    "\n",
    "# Calculate the mean absolute error of the model\n",
    "acc = accuracy_score(y_test, y_pred)\n",
    "print(\"Accuracy: \", acc)\n",
    "\n",
    "cross = pd.crosstab(y_test,  y_pred)\n",
    "plt.figure(figsize=(10, 10))\n",
    "sns.heatmap(cross, annot=True,fmt='d', cmap=\"YlGnBu\")"
   ]
  },
  {
   "cell_type": "markdown",
   "metadata": {},
   "source": [
    "### 7.3 Discussing The Network Variables and Their Role in Detecting Different Types of Cyber Attacks.\n"
   ]
  },
  {
   "cell_type": "markdown",
   "metadata": {},
   "source": [
    "Let's discuss about some of the important features for detecting the type of cyber attack.\n",
    "\n",
    "`sttl`: Source to destination time to live value can be used to detect attacks such as packet fragmentation or tunneling that can increase the number of hops or decrease the TTL value. These techniques are often used by attackers to avoid detection or bypass security measures. A higher value for sttl may indicate the presence of such techniques.\n",
    "\n",
    "`ct_state_ttl` and `state`: These features reflect the various stages of TCP connections and can be related to port scanning, SYN flood, or DDoS attacks. Attackers can exploit the state of TCP connections using different techniques, which may be reflected in the values of ct_state_ttl and state.\n",
    "\n",
    "`rate`: This feature can represent various types of traffic rates or frequencies. Attackers may generate high traffic rates or bursts of traffic to overwhelm or bypass security measures, which may be reflected in a higher value for rate.\n",
    "\n",
    "`dload`: A decrease in the download speed may indicate an attack that consumes network bandwidth, such as DDoS attacks or worm propagation. A lower value for dload may be reflective of such attacks.\n",
    "\n",
    "The different types of attacks can have different characteristics that can be detected using network variables. For example, DoS attacks aim to disrupt the normal functioning of a system, so an increase in the rate of traffic or a decrease in the download speed may indicate the presence of such an attack. Port scanning, SYN flood, and DDoS attacks can be reflected in the values of ct_state_ttl and state. Fuzzers and analysis attacks may involve generating large amounts of traffic, which can be reflected in the value of rate. Reconnaissance attacks involve gathering information about a target system, which can potentially be detected by analyzing network traffic. Finally, shellcode and worm attacks can be detected by analyzing the content of network packets.\n"
   ]
  },
  {
   "cell_type": "markdown",
   "metadata": {},
   "source": [
    "## Run Deep Neural Network On The Dataset \n"
   ]
  },
  {
   "cell_type": "code",
   "execution_count": null,
   "metadata": {},
   "outputs": [],
   "source": [
    " # write your code here\n",
    "from keras.layers import Dense, Dropout\n",
    "from keras.models import Sequential\n",
    "from keras.optimizers import Adam\n",
    "from sklearn.metrics import mean_squared_error , auc\n",
    "from sklearn.preprocessing import StandardScaler\n",
    "\n",
    "# Scale the data\n",
    "scaler = StandardScaler()\n",
    "X = scaler.fit_transform(X)\n",
    "\n",
    "# Create a DNN model\n",
    "\n",
    "model = Sequential()\n",
    "# The Input Layer\n",
    "model.add(Dense(512, activation='relu', input_dim = X_train.shape[1]))\n",
    "\n",
    "# The Hidden Layers\n",
    "model.add(Dense(128, activation='relu'))\n",
    "model.add(Dense(64, activation='relu'))\n",
    "\n",
    "# The Output Layer\n",
    "\n",
    "model.add(Dense(2, activation='softmax'))\n",
    "\n",
    "# Compile the network\n",
    "model.compile(optimizer='adam',\n",
    "              loss='sparse_categorical_crossentropy',\n",
    "              metrics=['accuracy'])\n",
    "model.summary()\n",
    "\n",
    "model.fit(X_train, y_train, epochs=5)"
   ]
  },
  {
   "cell_type": "markdown",
   "metadata": {},
   "source": [
    "## 8. Cyber Security for Cloud Services\n",
    "\n",
    "\n",
    "We may scratch the surface, but as you start implementing your system, you will inevitably encounter complex issues. However, there are powerful cybersecurity tools available that you should consider.\n",
    "\n",
    "\n",
    "\n",
    "The complexities of cybersecurity in cloud services include shared responsibility, data privacy, complex architecture, multi-tenancy, regulatory compliance, and vulnerability to attacks. To mitigate these risks, effective cybersecurity strategies must be in place.\n",
    "\n",
    "Implementing cybersecurity measures for cloud computing can be particularly challenging due to several reasons, such as:\n",
    "\n",
    "> 1. Shared responsibility: In cloud computing, the responsibility for security is shared between the cloud provider and the customer, which can lead to confusion and a lack of clear ownership over security issues.\n",
    "> 2. Complex architecture: Cloud environments typically have a complex and dynamic architecture, making it difficult to implement and manage effective security controls.\n",
    "> 3. Multi-tenancy: Cloud providers often use multi-tenant infrastructure, where multiple customers share the same physical and virtual resources. This can lead to security risks, such as the accidental or intentional exposure of one customer's data to another.\n",
    "> 4. Regulatory compliance: Organizations must comply with regulations such as the General Data Protection Regulation (GDPR) or the Health Insurance Portability and Accountability Act (HIPAA), which can be difficult to achieve in a cloud environment.\n",
    "> 5. Vulnerability to attacks: Cloud environments are vulnerable to attacks such as distributed denial of service (DDoS) attacks, malware, and unauthorized access, making it critical to implement appropriate measures to mitigate the risks.\n",
    "\n",
    "Therefore, implementing effective cybersecurity measures in cloud computing requires a comprehensive and multi-layered approach to address these challenges and secure sensitive data and systems.\n",
    "\n"
   ]
  },
  {
   "cell_type": "markdown",
   "metadata": {},
   "source": [
    "## 9. List of all features with description\n"
   ]
  },
  {
   "cell_type": "markdown",
   "metadata": {},
   "source": [
    "The data was processed using Argus and Bro-ID tools, resulting in 49 features with class labels.\n",
    "\n",
    "|No.|Name            |Type     |Description                                                                                                                                                       |\n",
    "|---|----------------|---------|------------------------------------------------------------------------------------------------------------------------------------------------------------------|\n",
    "|1  |srcip           |nominal  |Source IP address                                                                                                                                                 |\n",
    "|2  |sport           |integer  |Source port number                                                                                                                                                |\n",
    "|3  |dstip           |nominal  |Destination IP address                                                                                                                                            |\n",
    "|4  |dsport          |integer  |Destination port number                                                                                                                                           |\n",
    "|5  |proto           |nominal  |Transaction protocol                                                                                                                                              |\n",
    "|6  |state           |nominal  |Indicates to the state and its dependent protocol, e.g. ACC, CLO, CON, ECO, ECR, FIN, INT, MAS, PAR, REQ, RST, TST, TXD, URH, URN, and (-) (if not used state)    |\n",
    "|7  |dur             |Float    |Record total duration                                                                                                                                             |\n",
    "|8  |sbytes          |Integer  |Source to destination transaction bytes                                                                                                                           |\n",
    "|9  |dbytes          |Integer  |Destination to source transaction bytes                                                                                                                           |\n",
    "|10 |sttl            |Integer  |Source to destination time to live value                                                                                                                          |\n",
    "|11 |dttl            |Integer  |Destination to source time to live value                                                                                                                          |\n",
    "|12 |sloss           |Integer  |Source packets retransmitted or dropped                                                                                                                           |\n",
    "|13 |dloss           |Integer  |Destination packets retransmitted or dropped                                                                                                                      |\n",
    "|14 |service         |nominal  |http, ftp, smtp, ssh, dns, ftp-data ,irc  and (-) if not much used service                                                                                        |\n",
    "|15 |Sload           |Float    |Source bits per second                                                                                                                                            |\n",
    "|16 |Dload           |Float    |Destination bits per second                                                                                                                                       |\n",
    "|17 |Spkts           |integer  |Source to destination packet count                                                                                                                                |\n",
    "|18 |Dpkts           |integer  |Destination to source packet count                                                                                                                                |\n",
    "|19 |swin            |integer  |Source TCP window advertisement value                                                                                                                             |\n",
    "|20 |dwin            |integer  |Destination TCP window advertisement value                                                                                                                        |\n",
    "|21 |stcpb           |integer  |Source TCP base sequence number                                                                                                                                   |\n",
    "|22 |dtcpb           |integer  |Destination TCP base sequence number                                                                                                                              |\n",
    "|23 |smeansz         |integer  |Mean of the ?ow packet size transmitted by the src                                                                                                                |\n",
    "|24 |dmeansz         |integer  |Mean of the ?ow packet size transmitted by the dst                                                                                                                |\n",
    "|25 |trans_depth     |integer  |Represents the pipelined depth into the connection of http request/response transaction                                                                           |\n",
    "|26 |res_bdy_len     |integer  |Actual uncompressed content size of the data transferred from the serverís http service.                                                                          |\n",
    "|27 |Sjit            |Float    |Source jitter (mSec)                                                                                                                                              |\n",
    "|28 |Djit            |Float    |Destination jitter (mSec)                                                                                                                                         |\n",
    "|29 |Stime           |Timestamp|record start time                                                                                                                                                 |\n",
    "|30 |Ltime           |Timestamp|record last time                                                                                                                                                  |\n",
    "|31 |Sintpkt         |Float    |Source interpacket arrival time (mSec)                                                                                                                            |\n",
    "|32 |Dintpkt         |Float    |Destination interpacket arrival time (mSec)                                                                                                                       |\n",
    "|33 |tcprtt          |Float    |TCP connection setup round-trip time, the sum of ísynackí and íackdatí.                                                                                           |\n",
    "|34 |synack          |Float    |TCP connection setup time, the time between the SYN and the SYN_ACK packets.                                                                                      |\n",
    "|35 |ackdat          |Float    |TCP connection setup time, the time between the SYN_ACK and the ACK packets.                                                                                      |\n",
    "|36 |is_sm_ips_ports |Binary   |If source (1) and destination (3)IP addresses equal and port numbers (2)(4)  equal then, this variable takes value 1 else 0                                       |\n",
    "|37 |ct_state_ttl    |Integer  |No. for each state (6) according to specific range of values for source/destination time to live (10) (11).                                                       |\n",
    "|38 |ct_flw_http_mthd|Integer  |No. of flows that has methods such as Get and Post in http service.                                                                                               |\n",
    "|39 |is_ftp_login    |Binary   |If the ftp session is accessed by user and password then 1 else 0.                                                                                                |\n",
    "|40 |ct_ftp_cmd      |integer  |No of flows that has a command in ftp session.                                                                                                                    |\n",
    "|41 |ct_srv_src      |integer  |No. of connections that contain the same service (14) and source address (1) in 100 connections according to the last time (26).                                  |\n",
    "|42 |ct_srv_dst      |integer  |No. of connections that contain the same service (14) and destination address (3) in 100 connections according to the last time (26).                             |\n",
    "|43 |ct_dst_ltm      |integer  |No. of connections of the same destination address (3) in 100 connections according to the last time (26).                                                        |\n",
    "|44 |ct_src_ ltm     |integer  |No. of connections of the same source address (1) in 100 connections according to the last time (26).                                                             |\n",
    "|45 |ct_src_dport_ltm|integer  |No of connections of the same source address (1) and the destination port (4) in 100 connections according to the last time (26).                                 |\n",
    "|46 |ct_dst_sport_ltm|integer  |No of connections of the same destination address (3) and the source port (2) in 100 connections according to the last time (26).                                 |\n",
    "|47 |ct_dst_src_ltm  |integer  |No of connections of the same source (1) and the destination (3) address in in 100 connections according to the last time (26).                                   |\n",
    "|48 |attack_cat      |nominal  |The name of each attack category. In this data set , nine categories e.g. Fuzzers, Analysis, Backdoors, DoS Exploits, Generic, Reconnaissance, Shellcode and Worms|\n",
    "|49 |Label           |binary   |0 for normal and 1 for attack records                                                                                                                             |\n"
   ]
  }
 ],
 "metadata": {
  "kernelspec": {
   "display_name": "Python 3",
   "language": "python",
   "name": "python3"
  },
  "language_info": {
   "codemirror_mode": {
    "name": "ipython",
    "version": 3
   },
   "file_extension": ".py",
   "mimetype": "text/x-python",
   "name": "python",
   "nbconvert_exporter": "python",
   "pygments_lexer": "ipython3",
   "version": "3.11.8"
  }
 },
 "nbformat": 4,
 "nbformat_minor": 4
}
